{
 "cells": [
  {
   "cell_type": "markdown",
   "metadata": {},
   "source": [
    "# Contours"
   ]
  },
  {
   "cell_type": "code",
   "execution_count": 14,
   "metadata": {},
   "outputs": [
    {
     "name": "stdout",
     "output_type": "stream",
     "text": [
      "Number of Contours found = 109\n"
     ]
    }
   ],
   "source": [
    "import cv2\n",
    "import numpy as np\n",
    "\n",
    "# Let's load a simple image with 3 black squares\n",
    "image = cv2.imread('images/scan.jpg')\n",
    "cv2.imshow('Input Image', image)\n",
    "cv2.waitKey(0)\n",
    "\n",
    "# Grayscale\n",
    "gray = cv2.cvtColor(image,cv2.COLOR_BGR2GRAY)\n",
    "\n",
    "# Find Canny edges\n",
    "edged = cv2.Canny(gray, 120, 255,1)\n",
    "cv2.imshow('Canny Edges', edged)\n",
    "cv2.waitKey(0)\n",
    "\n",
    "# Finding Contours\n",
    "# Use a copy of your image e.g. edged.copy(), since findContours alters the image\n",
    "_, contours, hierarchy = cv2.findContours(edged, cv2.RETR_EXTERNAL, cv2.CHAIN_APPROX_NONE)\n",
    "cv2.imshow('Canny Edges After Contouring', edged)\n",
    "cv2.waitKey(0)\n",
    "\n",
    "print(\"Number of Contours found = \" + str(len(contours)))\n",
    "\n",
    "# Draw all contours\n",
    "# Use '-1' as the 3rd parameter to draw all\n",
    "cv2.drawContours(image, contours, -1, (0,255,0), 3)\n",
    "\n",
    "cv2.imshow('Contours', image)\n",
    "cv2.waitKey(0)\n",
    "cv2.destroyAllWindows()"
   ]
  },
  {
   "cell_type": "markdown",
   "metadata": {},
   "source": [
    "# Find corner coordinates of a Image"
   ]
  },
  {
   "cell_type": "code",
   "execution_count": 4,
   "metadata": {
    "scrolled": false
   },
   "outputs": [
    {
     "name": "stdout",
     "output_type": "stream",
     "text": [
      " I : 1\n",
      " I : 2\n",
      " I : 3\n",
      " I : 4\n",
      " I : 5\n",
      " I : 6\n",
      "[(15, 326), (211, 697), (317, 263), (516, 520), (617, 83), (942, 339)]\n"
     ]
    }
   ],
   "source": [
    "import cv2\n",
    "import numpy as np\n",
    "import math\n",
    "from matplotlib import pyplot as plt\n",
    "# Let's load a simple image with 3 black squares\n",
    "image = cv2.imread('images/scan.jpg')\n",
    "image2=image.copy\n",
    "cv2.imshow('Input Image', image)\n",
    "cv2.waitKey(0)\n",
    "\n",
    "# Grayscale\n",
    "gray = cv2.cvtColor(image,cv2.COLOR_BGR2GRAY)\n",
    "cv2.imshow('Grayscale Image', image)\n",
    "cv2.waitKey(0)\n",
    "\n",
    "#blur the image to remove less possible gradient changes and preserve the more intense ones\n",
    "bi = cv2.bilateralFilter(gray, 5, 75, 75)\n",
    "cv2.imshow('blur',bi)\n",
    "cv2.waitKey(0)\n",
    "\n",
    "dst = cv2.cornerHarris(bi, 2, 3, 0.04)\n",
    "#print(dst)\n",
    "#--- create a black image to see where those corners occur ---\n",
    "mask = np.zeros_like(gray)\n",
    "#--- applying a threshold and turning those pixels above the threshold to white ---           \n",
    "mask[dst>0.01*dst.max()] = 255\n",
    "cv2.imshow('mask', mask)\n",
    "cv2.waitKey(0)\n",
    "\n",
    "image[dst > 0.01 * dst.max()] = [0, 0, 255]   #--- [0, 0, 255] --> Red ---\n",
    "cv2.imshow('dst', image)\n",
    "cv2.waitKey(0)\n",
    "\n",
    "coordinates = np.argwhere(mask)\n",
    "coor_list = [l.tolist() for l in list(coordinates)]\n",
    "coor_tuples = [tuple(l) for l in coor_list]\n",
    "\n",
    "thresh = 300\n",
    "\n",
    "def distance(pt1, pt2):\n",
    "    (x1, y1), (x2, y2) = pt1, pt2\n",
    "    dist = math.sqrt( (x2 - x1)**2 + (y2 - y1)**2 )\n",
    "    return dist\n",
    "\n",
    "coor_tuples_copy = coor_tuples\n",
    "\n",
    "i = 1    \n",
    "for pt1 in coor_tuples:\n",
    "\n",
    "    print(' I :', i)\n",
    "    for pt2 in coor_tuples[i::1]:\n",
    "        #print(pt1, pt2)\n",
    "        #print('Distance :', distance(pt1, pt2))\n",
    "        if(distance(pt1, pt2) < thresh):\n",
    "            coor_tuples_copy.remove(pt2)      \n",
    "    i+=1\n",
    "\n",
    "\n",
    "print(coor_tuples_copy)\n",
    "\n",
    "\n",
    "for pt in coor_tuples_copy:\n",
    "    cv2.circle(image, tuple(reversed(pt)), 3, (0, 225, 0), -1)\n",
    "cv2.imshow('Image with 4 corners', image) \n",
    "cv2.waitKey(0)\n",
    "\n",
    "cv2.destroyAllWindows()\n",
    "\n",
    "\n",
    "#c = sorted(cnts, key = cv2.contourArea, reverse = True)[0]\n",
    "#corners = cv2.goodFeaturesToTrack(gray,4,0.01,10)\n",
    "#corners = np.int0(corners)\n",
    "#print(corners)\n",
    "#for i in corners:\n",
    "#    x,y = i.ravel()\n",
    "#    cv2.circle(image,(x,y),3,255,-1)\n",
    "# Find Canny edges\n",
    "#edged = cv2.Canny(gray, 30, 200)\n",
    "#_, contours, hierarchy = cv2.findContours(edged, cv2.RETR_EXTERNAL, cv2.CHAIN_APPROX_SIMPLE)\n",
    "#c = sorted(contours, key = cv2.contourArea, reverse = True)[0]\n",
    "#cv2.imshow('Output Image', image)\n",
    "#cv2.waitKey(0)\n",
    "#cv2.destroyAllWindows()\n",
    "#print(c)"
   ]
  },
  {
   "cell_type": "code",
   "execution_count": 3,
   "metadata": {},
   "outputs": [],
   "source": [
    "import cv2\n",
    "import numpy as np\n",
    "\n",
    "# Let's load a simple image with 3 black squares\n",
    "image = cv2.imread('images/scan.jpg')\n",
    "cv2.imshow('Input Image', image)\n",
    "cv2.waitKey(0)\n",
    "\n",
    "# Grayscale\n",
    "gray = cv2.cvtColor(image,cv2.COLOR_BGR2GRAY)\n",
    "\n",
    "# Find Canny edges\n",
    "edged = cv2.Canny(gray, 120, 255,1)\n",
    "cv2.imshow('Canny Edges', edged)\n",
    "cv2.waitKey(0)\n",
    "\n",
    "corners = cv2.goodFeaturesToTrack(edged,4,0.1,50)\n",
    "\n",
    "for corner in corners:\n",
    "    x,y = corner.ravel()\n",
    "    cv2.circle(image,(x,y),5,(36,255,12),-1)\n",
    "\n",
    "cv2.imshow('output', image)\n",
    "cv2.waitKey(0)\n",
    "\n",
    "cv2.destroyAllWindows()"
   ]
  },
  {
   "cell_type": "code",
   "execution_count": 7,
   "metadata": {},
   "outputs": [
    {
     "name": "stdout",
     "output_type": "stream",
     "text": [
      "960 720\n"
     ]
    }
   ],
   "source": [
    "import cv2\n",
    "import numpy as np\n",
    "import math\n",
    "from matplotlib import pyplot as plt\n",
    "# Let's load a simple image with 3 black squares\n",
    "image = cv2.imread('images/scan.jpg')\n",
    "width, height =  image.shape[:2]\n",
    "print(width, height)"
   ]
  },
  {
   "cell_type": "code",
   "execution_count": 4,
   "metadata": {},
   "outputs": [
    {
     "name": "stdout",
     "output_type": "stream",
     "text": [
      "Number of contours found =  4\n"
     ]
    }
   ],
   "source": [
    "import cv2\n",
    "import numpy as np\n",
    "\n",
    "# Load our image\n",
    "image = cv2.imread('images/bunchofshapes.jpg')\n",
    "cv2.imshow('0 - Original Image', image)\n",
    "cv2.waitKey(0)\n",
    "\n",
    "# Create a black image with same dimensions as our loaded image\n",
    "blank_image = np.zeros((image.shape[0], image.shape[1], 3))\n",
    "\n",
    "# Create a copy of our original image\n",
    "orginal_image = image\n",
    "\n",
    "# Grayscale our image\n",
    "gray = cv2.cvtColor(image,cv2.COLOR_BGR2GRAY)\n",
    "\n",
    "# Find Canny edges\n",
    "edged = cv2.Canny(gray, 50, 200)\n",
    "cv2.imshow('1 - Canny Edges', edged)\n",
    "cv2.waitKey(0)\n",
    "\n",
    "# Find contours and print how many were found\n",
    "_, contours, hierarchy = cv2.findContours(edged.copy(), cv2.RETR_EXTERNAL, cv2.CHAIN_APPROX_NONE)\n",
    "print (\"Number of contours found = \", len(contours))\n",
    "\n",
    "#Draw all contours\n",
    "cv2.drawContours(blank_image, contours, -1, (0,255,0), 3)\n",
    "cv2.imshow('2 - All Contours over blank image', blank_image)\n",
    "cv2.waitKey(0)\n",
    "\n",
    "# Draw all contours over blank image\n",
    "cv2.drawContours(image, contours, -1, (0,255,0), 3)\n",
    "cv2.imshow('3 - All Contours', image)\n",
    "cv2.waitKey(0)\n",
    "\n",
    "cv2.destroyAllWindows()"
   ]
  },
  {
   "cell_type": "raw",
   "metadata": {},
   "source": [
    "Let's now sort by area"
   ]
  },
  {
   "cell_type": "code",
   "execution_count": null,
   "metadata": {},
   "outputs": [
    {
     "name": "stdout",
     "output_type": "stream",
     "text": [
      "Contor Areas before sorting [20587.5, 22900.5, 66581.5, 90222.0]\n",
      "Contor Areas after sorting [90222.0, 66581.5, 22900.5, 20587.5]\n"
     ]
    }
   ],
   "source": []
  },
  {
   "cell_type": "code",
   "execution_count": null,
   "metadata": {},
   "outputs": [],
   "source": []
  }
 ],
 "metadata": {
  "kernelspec": {
   "display_name": "Python 3",
   "language": "python",
   "name": "python3"
  },
  "language_info": {
   "codemirror_mode": {
    "name": "ipython",
    "version": 3
   },
   "file_extension": ".py",
   "mimetype": "text/x-python",
   "name": "python",
   "nbconvert_exporter": "python",
   "pygments_lexer": "ipython3",
   "version": "3.7.4"
  }
 },
 "nbformat": 4,
 "nbformat_minor": 2
}
